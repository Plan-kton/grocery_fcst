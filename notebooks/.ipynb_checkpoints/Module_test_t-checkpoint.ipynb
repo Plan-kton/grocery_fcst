{
 "cells": [
  {
   "cell_type": "code",
   "execution_count": 1,
   "id": "e6698af1-7639-4f6f-94c2-d5f34c89edc7",
   "metadata": {},
   "outputs": [
    {
     "ename": "NameError",
     "evalue": "name 'y_fitted' is not defined",
     "output_type": "error",
     "traceback": [
      "\u001b[1;31m---------------------------------------------------------------------------\u001b[0m",
      "\u001b[1;31mNameError\u001b[0m                                 Traceback (most recent call last)",
      "Cell \u001b[1;32mIn[1], line 34\u001b[0m\n\u001b[0;32m     31\u001b[0m X_test \u001b[38;5;241m=\u001b[39m df_test[ind]\n\u001b[0;32m     33\u001b[0m \u001b[38;5;66;03m# --- 4. Fit and Predict with OLS ---\u001b[39;00m\n\u001b[1;32m---> 34\u001b[0m beta, y_fitted \u001b[38;5;241m=\u001b[39m fit_ols_matrix(X_train, y_train)\n\u001b[0;32m     35\u001b[0m y_forecast \u001b[38;5;241m=\u001b[39m predict_ols_matrix(X_test, beta)\n\u001b[0;32m     37\u001b[0m \u001b[38;5;66;03m# --- 5. Combine Fitted + Forecast ---\u001b[39;00m\n",
      "File \u001b[1;32m~\\Documents\\Python\\grocery_fcst\\forecast_engine\\ols_engine.py:15\u001b[0m, in \u001b[0;36mfit_ols_matrix\u001b[1;34m(X, y)\u001b[0m\n\u001b[0;32m     13\u001b[0m X_aug \u001b[38;5;241m=\u001b[39m np\u001b[38;5;241m.\u001b[39mhstack((ones, X))\n\u001b[0;32m     14\u001b[0m beta \u001b[38;5;241m=\u001b[39m np\u001b[38;5;241m.\u001b[39mlinalg\u001b[38;5;241m.\u001b[39mpinv(X_aug\u001b[38;5;241m.\u001b[39mT \u001b[38;5;241m@\u001b[39m X_aug) \u001b[38;5;241m@\u001b[39m X_aug\u001b[38;5;241m.\u001b[39mT \u001b[38;5;241m@\u001b[39m y\n\u001b[1;32m---> 15\u001b[0m \u001b[38;5;28;01mreturn\u001b[39;00m beta, y_fitted\n",
      "\u001b[1;31mNameError\u001b[0m: name 'y_fitted' is not defined"
     ]
    }
   ],
   "source": [
    "# --- 1. Load Packages and Data ---\n",
    "import pandas as pd\n",
    "from forecast_engine import (\n",
    "    filter_by_date_range,\n",
    "    fit_ols_statsmodels, predict_ols_statsmodels, add_fitted_and_residuals,\n",
    "    add_comb_and_flag,\n",
    "    plot_true_vs_predicted, plot_actual_vs_fitted_vs_forecast\n",
    ")\n",
    "\n",
    "# Load data\n",
    "df = pd.read_csv('grocery_eda_dataset.csv', parse_dates=['date'])\n",
    "df = df.set_index('date')\n",
    "\n",
    "# --- 2. Define Parameters ---\n",
    "dep = 'grocery_sales'\n",
    "ind = ['cpi_fah', 'rdi_adj', 'home_price', 'covid1', 'covid2']\n",
    "\n",
    "start_training_date = '2004-01-01'\n",
    "end_training_date = '2023-12-31'\n",
    "\n",
    "start_test_date = '2024-01-01'\n",
    "end_test_date = '2025-03-31'\n",
    "\n",
    "# --- 3. Filter Data ---\n",
    "df_train = filter_by_date_range(df, start_training_date, end_training_date)\n",
    "df_test = filter_by_date_range(df, start_test_date, end_test_date)\n",
    "\n",
    "X_train = df_train[ind]\n",
    "y_train = df_train[dep]\n",
    "\n",
    "X_test = df_test[ind]\n",
    "\n",
    "# --- 4. Fit and Predict with OLS ---\n",
    "model, y_fitted = fit_ols_statsmodels(X_train, y_train)\n",
    "y_forecast = predict_ols_statsmodels(X_test, model)\n",
    "\n",
    "# --- 5. Combine Fitted + Forecast ---\n",
    "df_train = add_fitted_and_residuals(df_train, y_train, y_fitted)\n",
    "df_test['y_fcst_ols'] = y_forecast\n",
    "\n",
    "df_combined = pd.concat([df_train, df_test])\n",
    "df_combined = add_comb_and_flag(df_combined, dep, forecast_col='y_fcst_ols')\n",
    "\n",
    "# --- 6. Plot Diagnostics ---\n",
    "plot_true_vs_predicted(y_train, y_fitted)\n",
    "plot_actual_vs_fitted_vs_forecast(df_combined, dep)\n"
   ]
  },
  {
   "cell_type": "code",
   "execution_count": null,
   "id": "280d7037-1942-4d0d-ab5d-43ea4df7e51d",
   "metadata": {},
   "outputs": [],
   "source": []
  },
  {
   "cell_type": "code",
   "execution_count": null,
   "id": "2887c12d-180f-4c1e-8be2-2167729377be",
   "metadata": {},
   "outputs": [],
   "source": []
  },
  {
   "cell_type": "code",
   "execution_count": null,
   "id": "59ca474b-b966-49e0-b554-050f65330dd9",
   "metadata": {},
   "outputs": [],
   "source": []
  }
 ],
 "metadata": {
  "kernelspec": {
   "display_name": "Python 3 (ipykernel)",
   "language": "python",
   "name": "python3"
  },
  "language_info": {
   "codemirror_mode": {
    "name": "ipython",
    "version": 3
   },
   "file_extension": ".py",
   "mimetype": "text/x-python",
   "name": "python",
   "nbconvert_exporter": "python",
   "pygments_lexer": "ipython3",
   "version": "3.11.7"
  }
 },
 "nbformat": 4,
 "nbformat_minor": 5
}
