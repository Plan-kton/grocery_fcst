{
 "cells": [
  {
   "cell_type": "code",
   "execution_count": 1,
   "id": "4370c087-3ff5-44bf-85d0-e5e6c9e649b1",
   "metadata": {},
   "outputs": [
    {
     "name": "stdout",
     "output_type": "stream",
     "text": [
      "C:\\Users\\erick\\Documents\\Python\\grocery_fcst\\notebooks\n"
     ]
    }
   ],
   "source": [
    "import sys\n",
    "import os\n",
    "import pandas as pd\n",
    "\n",
    "print(os.getcwd())\n",
    "os.chdir('c:/Users/erick/Documents/Python/grocery_fcst/notebooks')\n",
    "\n",
    "# Add the project root to sys.path\n",
    "sys.path.append(os.path.abspath(os.path.join(os.getcwd(), '..')))"
   ]
  },
  {
   "cell_type": "code",
   "execution_count": 2,
   "id": "656e2e56-ce68-4086-9feb-cd18feb66e8f",
   "metadata": {},
   "outputs": [
    {
     "ename": "ValueError",
     "evalue": "shapes (6,5) and (6,) not aligned: 5 (dim 1) != 6 (dim 0)",
     "output_type": "error",
     "traceback": [
      "\u001b[31m---------------------------------------------------------------------------\u001b[39m",
      "\u001b[31mValueError\u001b[39m                                Traceback (most recent call last)",
      "\u001b[36mCell\u001b[39m\u001b[36m \u001b[39m\u001b[32mIn[2]\u001b[39m\u001b[32m, line 35\u001b[39m\n\u001b[32m     33\u001b[39m \u001b[38;5;66;03m# --- 4. Fit and Predict with OLS ---\u001b[39;00m\n\u001b[32m     34\u001b[39m model, y_fitted = fit_ols_statsmodels(X_train, y_train)\n\u001b[32m---> \u001b[39m\u001b[32m35\u001b[39m y_forecast = \u001b[43mpredict_ols_statsmodels\u001b[49m\u001b[43m(\u001b[49m\u001b[43mdf_test\u001b[49m\u001b[43m[\u001b[49m\u001b[43mind\u001b[49m\u001b[43m]\u001b[49m\u001b[43m,\u001b[49m\u001b[43m \u001b[49m\u001b[43mmodel\u001b[49m\u001b[43m)\u001b[49m\n\u001b[32m     37\u001b[39m y_forecast\n",
      "\u001b[36mFile \u001b[39m\u001b[32mc:\\Users\\erick\\Documents\\Python\\grocery_fcst\\forecast_engine\\ols_engine.py:37\u001b[39m, in \u001b[36mpredict_ols_statsmodels\u001b[39m\u001b[34m(X, model)\u001b[39m\n\u001b[32m     35\u001b[39m \u001b[38;5;28;01mdef\u001b[39;00m\u001b[38;5;250m \u001b[39m\u001b[34mpredict_ols_statsmodels\u001b[39m(X, model):\n\u001b[32m     36\u001b[39m     X = sm.add_constant(X)\n\u001b[32m---> \u001b[39m\u001b[32m37\u001b[39m     \u001b[38;5;28;01mreturn\u001b[39;00m \u001b[43mmodel\u001b[49m\u001b[43m.\u001b[49m\u001b[43mpredict\u001b[49m\u001b[43m(\u001b[49m\u001b[43mX\u001b[49m\u001b[43m)\u001b[49m\n",
      "\u001b[36mFile \u001b[39m\u001b[32m~\\anaconda3\\envs\\bayesenv\\Lib\\site-packages\\statsmodels\\base\\model.py:1174\u001b[39m, in \u001b[36mResults.predict\u001b[39m\u001b[34m(self, exog, transform, *args, **kwargs)\u001b[39m\n\u001b[32m   1127\u001b[39m \u001b[38;5;250m\u001b[39m\u001b[33;03m\"\"\"\u001b[39;00m\n\u001b[32m   1128\u001b[39m \u001b[33;03mCall self.model.predict with self.params as the first argument.\u001b[39;00m\n\u001b[32m   1129\u001b[39m \n\u001b[32m   (...)\u001b[39m\u001b[32m   1169\u001b[39m \u001b[33;03mreturned prediction.\u001b[39;00m\n\u001b[32m   1170\u001b[39m \u001b[33;03m\"\"\"\u001b[39;00m\n\u001b[32m   1171\u001b[39m exog, exog_index = \u001b[38;5;28mself\u001b[39m._transform_predict_exog(exog,\n\u001b[32m   1172\u001b[39m                                                 transform=transform)\n\u001b[32m-> \u001b[39m\u001b[32m1174\u001b[39m predict_results = \u001b[38;5;28;43mself\u001b[39;49m\u001b[43m.\u001b[49m\u001b[43mmodel\u001b[49m\u001b[43m.\u001b[49m\u001b[43mpredict\u001b[49m\u001b[43m(\u001b[49m\u001b[38;5;28;43mself\u001b[39;49m\u001b[43m.\u001b[49m\u001b[43mparams\u001b[49m\u001b[43m,\u001b[49m\u001b[43m \u001b[49m\u001b[43mexog\u001b[49m\u001b[43m,\u001b[49m\u001b[43m \u001b[49m\u001b[43m*\u001b[49m\u001b[43margs\u001b[49m\u001b[43m,\u001b[49m\n\u001b[32m   1175\u001b[39m \u001b[43m                                     \u001b[49m\u001b[43m*\u001b[49m\u001b[43m*\u001b[49m\u001b[43mkwargs\u001b[49m\u001b[43m)\u001b[49m\n\u001b[32m   1177\u001b[39m \u001b[38;5;28;01mif\u001b[39;00m exog_index \u001b[38;5;129;01mis\u001b[39;00m \u001b[38;5;129;01mnot\u001b[39;00m \u001b[38;5;28;01mNone\u001b[39;00m \u001b[38;5;129;01mand\u001b[39;00m \u001b[38;5;129;01mnot\u001b[39;00m \u001b[38;5;28mhasattr\u001b[39m(predict_results,\n\u001b[32m   1178\u001b[39m                                           \u001b[33m'\u001b[39m\u001b[33mpredicted_values\u001b[39m\u001b[33m'\u001b[39m):\n\u001b[32m   1179\u001b[39m     \u001b[38;5;28;01mif\u001b[39;00m predict_results.ndim == \u001b[32m1\u001b[39m:\n",
      "\u001b[36mFile \u001b[39m\u001b[32m~\\anaconda3\\envs\\bayesenv\\Lib\\site-packages\\statsmodels\\regression\\linear_model.py:409\u001b[39m, in \u001b[36mRegressionModel.predict\u001b[39m\u001b[34m(self, params, exog)\u001b[39m\n\u001b[32m    406\u001b[39m \u001b[38;5;28;01mif\u001b[39;00m exog \u001b[38;5;129;01mis\u001b[39;00m \u001b[38;5;28;01mNone\u001b[39;00m:\n\u001b[32m    407\u001b[39m     exog = \u001b[38;5;28mself\u001b[39m.exog\n\u001b[32m--> \u001b[39m\u001b[32m409\u001b[39m \u001b[38;5;28;01mreturn\u001b[39;00m \u001b[43mnp\u001b[49m\u001b[43m.\u001b[49m\u001b[43mdot\u001b[49m\u001b[43m(\u001b[49m\u001b[43mexog\u001b[49m\u001b[43m,\u001b[49m\u001b[43m \u001b[49m\u001b[43mparams\u001b[49m\u001b[43m)\u001b[49m\n",
      "\u001b[31mValueError\u001b[39m: shapes (6,5) and (6,) not aligned: 5 (dim 1) != 6 (dim 0)"
     ]
    }
   ],
   "source": [
    "# --- 1. Load Packages and Data ---\n",
    "from forecast_engine import (\n",
    "    inject_forward_inputs,     \n",
    "    filter_by_date_range,\n",
    "    fit_ols_statsmodels, \n",
    "    predict_ols_statsmodels, \n",
    "    add_fitted_and_residuals,\n",
    "    add_comb_and_flag,\n",
    "    plot_true_vs_predicted, \n",
    "    plot_actual_vs_fitted_vs_forecast\n",
    ")\n",
    "\n",
    "# data source\n",
    "df = pd.read_csv('c:/Users/erick/Documents/Python/grocery_fcst/data/grocery_eda_dataset.csv', parse_dates=['date'])\n",
    "df = df.set_index('date')\n",
    "\n",
    "# Load data\n",
    "from controls.grocery_control import (dep, ind, start_training_date, end_training_date, start_test_date, end_test_date)\n",
    "from data.inputs.grocery_sales_input_202504 import (frwd_months, cpi_fah, rdi_adj, home_price, covid1, covid2)\n",
    "\n",
    "# Initialize the df_test with the future months\n",
    "df_test = pd.DataFrame(index=pd.to_datetime(frwd_months))\n",
    "\n",
    "# --- 3. Filter Data ---\n",
    "df_train = filter_by_date_range(df, start_training_date, end_training_date)\n",
    "df_test = inject_forward_inputs(df_test, ind, cpi_fah=cpi_fah, rdi_adj=rdi_adj, home_price=home_price, covid1=covid1, covid2=covid2)\n",
    "\n",
    "# Now extract modeling matrices\n",
    "X_train = df_train[ind]\n",
    "y_train = df_train[dep]\n",
    "X_test =  df_test[ind]\n",
    "\n",
    "# --- 4. Fit and Predict with OLS ---\n",
    "model, y_fitted = fit_ols_statsmodels(X_train, y_train)\n",
    "y_forecast = predict_ols_statsmodels(df_test[ind], model)\n",
    "\n",
    "y_forecast\n",
    "\n"
   ]
  },
  {
   "cell_type": "code",
   "execution_count": null,
   "id": "e6698af1-7639-4f6f-94c2-d5f34c89edc7",
   "metadata": {},
   "outputs": [],
   "source": [
    "\n",
    "\n",
    "\n",
    "\n",
    "# --- 4. Fit and Predict with OLS ---\n",
    "model, y_fitted = fit_ols_statsmodels(X_train, y_train)\n",
    "y_forecast = predict_ols_statsmodels(X_test, model)\n",
    "\n",
    "# --- 5. Combine Fitted + Forecast ---\n",
    "df_train = add_fitted_and_residuals(df_train, y_train, y_fitted)\n",
    "df_test['y_fcst_ols'] = y_forecast\n",
    "\n",
    "df_combined = pd.concat([df_train, df_test])\n",
    "df_combined = add_comb_and_flag(df_combined, dep, forecast_col='y_fcst_ols')\n",
    "\n",
    "# --- 6. Plot Diagnostics ---\n",
    "plot_true_vs_predicted(y_train, y_fitted)\n",
    "plot_actual_vs_fitted_vs_forecast(df_combined, dep)"
   ]
  },
  {
   "cell_type": "code",
   "execution_count": null,
   "id": "4dc3c188-3b5f-456a-8389-6ac52aaf43ef",
   "metadata": {},
   "outputs": [],
   "source": [
    "for col in df_combined.columns:\n",
    "    print(col)"
   ]
  },
  {
   "cell_type": "code",
   "execution_count": null,
   "id": "280d7037-1942-4d0d-ab5d-43ea4df7e51d",
   "metadata": {},
   "outputs": [],
   "source": [
    "df_combined.tail()"
   ]
  },
  {
   "cell_type": "code",
   "execution_count": null,
   "id": "2887c12d-180f-4c1e-8be2-2167729377be",
   "metadata": {},
   "outputs": [],
   "source": [
    "df_train"
   ]
  },
  {
   "cell_type": "code",
   "execution_count": null,
   "id": "59ca474b-b966-49e0-b554-050f65330dd9",
   "metadata": {},
   "outputs": [],
   "source": [
    "df_test"
   ]
  },
  {
   "cell_type": "code",
   "execution_count": null,
   "id": "f62f2b4d-6df8-43ca-bce9-7321c68077cb",
   "metadata": {},
   "outputs": [],
   "source": [
    "X_test"
   ]
  }
 ],
 "metadata": {
  "kernelspec": {
   "display_name": "Python (bayesenv)",
   "language": "python",
   "name": "bayesenv"
  },
  "language_info": {
   "codemirror_mode": {
    "name": "ipython",
    "version": 3
   },
   "file_extension": ".py",
   "mimetype": "text/x-python",
   "name": "python",
   "nbconvert_exporter": "python",
   "pygments_lexer": "ipython3",
   "version": "3.11.11"
  }
 },
 "nbformat": 4,
 "nbformat_minor": 5
}
